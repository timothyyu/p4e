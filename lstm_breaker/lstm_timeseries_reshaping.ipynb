{
 "cells": [
  {
   "cell_type": "markdown",
   "metadata": {},
   "source": [
    "Source/Reference:\n",
    "https://machinelearningmastery.com/convert-time-series-supervised-learning-problem-python/"
   ]
  },
  {
   "cell_type": "code",
   "execution_count": 1,
   "metadata": {},
   "outputs": [
    {
     "name": "stderr",
     "output_type": "stream",
     "text": [
      "C:\\Users\\tyu-dev\\Anaconda3\\envs\\pythondata\\lib\\site-packages\\h5py\\__init__.py:34: FutureWarning: Conversion of the second argument of issubdtype from `float` to `np.floating` is deprecated. In future, it will be treated as `np.float64 == np.dtype(float).type`.\n",
      "  from ._conv import register_converters as _register_converters\n",
      "Using TensorFlow backend.\n"
     ]
    }
   ],
   "source": [
    "from keras.models import Sequential\n",
    "from keras.layers import Dense, Activation, LSTM\n",
    "\n",
    "import numpy as np\n",
    "import pandas as pd"
   ]
  },
  {
   "cell_type": "code",
   "execution_count": 2,
   "metadata": {},
   "outputs": [
    {
     "name": "stdout",
     "output_type": "stream",
     "text": [
      "   t\n",
      "0  0\n",
      "1  1\n",
      "2  2\n",
      "3  3\n",
      "4  4\n",
      "5  5\n",
      "6  6\n",
      "7  7\n",
      "8  8\n",
      "9  9\n"
     ]
    }
   ],
   "source": [
    "# Time series:\n",
    "    # is sequence of numbers that are ordered by time index\n",
    "    # i.e. a list or column of *ordered* values\n",
    "    # Example:\n",
    "df = pd.DataFrame()\n",
    "df['t'] = [x for x in range(10)]\n",
    "print(df)"
   ]
  },
  {
   "cell_type": "code",
   "execution_count": 3,
   "metadata": {},
   "outputs": [
    {
     "name": "stdout",
     "output_type": "stream",
     "text": [
      "   X   y\n",
      "0  0   1\n",
      "1  1   2\n",
      "2  2   3\n",
      "3  3   4\n",
      "4  4   5\n",
      "5  5   6\n",
      "6  6   7\n",
      "7  7   8\n",
      "8  8   9\n",
      "9  9  10\n"
     ]
    }
   ],
   "source": [
    "# Supervised learning problem has inputs (X) and outputs (y)\n",
    "    # Predict output patterns from inputs\n",
    "df.rename(columns={'t':'X'}, inplace=True)\n",
    "df['y'] = [x+1 for x in range(10)]\n",
    "print(df)"
   ]
  },
  {
   "cell_type": "code",
   "execution_count": 4,
   "metadata": {
    "collapsed": true
   },
   "outputs": [],
   "source": [
    "# Pandas shift() to convert time series data into supervised learning\n",
    "    # Shift() to create duplicate of column data shifted forward or back"
   ]
  },
  {
   "cell_type": "markdown",
   "metadata": {},
   "source": [
    "\"This is the behavior required to create columns of lag observations as well as columns of forecast observations for a time series dataset in a supervised learning format.\""
   ]
  },
  {
   "cell_type": "code",
   "execution_count": 5,
   "metadata": {},
   "outputs": [
    {
     "name": "stdout",
     "output_type": "stream",
     "text": [
      "   t  t-1\n",
      "0  0  NaN\n",
      "1  1  0.0\n",
      "2  2  1.0\n",
      "3  3  2.0\n",
      "4  4  3.0\n",
      "5  5  4.0\n",
      "6  6  5.0\n",
      "7  7  6.0\n",
      "8  8  7.0\n",
      "9  9  8.0\n"
     ]
    }
   ],
   "source": [
    "from pandas import DataFrame\n",
    "df = DataFrame()\n",
    "df['t'] = [x for x in range(10)]\n",
    "df['t-1'] = df['t'].shift(1)\n",
    "print(df)\n",
    "\n",
    "# Ignore first row due to NaN value\n",
    "    # Row 1: t-1 as input (X), output is t (y)"
   ]
  },
  {
   "cell_type": "code",
   "execution_count": 6,
   "metadata": {},
   "outputs": [
    {
     "name": "stdout",
     "output_type": "stream",
     "text": [
      "     X  y\n",
      "0  NaN  0\n",
      "1  0.0  1\n",
      "2  1.0  2\n",
      "3  2.0  3\n",
      "4  3.0  4\n",
      "5  4.0  5\n",
      "6  5.0  6\n",
      "7  6.0  7\n",
      "8  7.0  8\n",
      "9  8.0  9\n"
     ]
    }
   ],
   "source": [
    "# Rename and reorder columns to reflect the above:\n",
    "df.rename(columns={'t-1':'X','t':'y'}, inplace=True)\n",
    "df = df[['X','y']]\n",
    "print(df)"
   ]
  },
  {
   "cell_type": "code",
   "execution_count": 7,
   "metadata": {},
   "outputs": [
    {
     "name": "stdout",
     "output_type": "stream",
     "text": [
      "   t  t+1\n",
      "0  0  1.0\n",
      "1  1  2.0\n",
      "2  2  3.0\n",
      "3  3  4.0\n",
      "4  4  5.0\n",
      "5  5  6.0\n",
      "6  6  7.0\n",
      "7  7  8.0\n",
      "8  8  9.0\n",
      "9  9  NaN\n"
     ]
    }
   ],
   "source": [
    "# pd.shift() can accept negative int values\n",
    "    # Inserts new rows at end (pulls observations up)\n",
    "df_negative_shift = pd.DataFrame()\n",
    "df_negative_shift['t'] = [x for x in range(10)]\n",
    "df_negative_shift['t+1'] = df_negative_shift['t'].shift(-1)\n",
    "print(df_negative_shift)\n",
    "\n",
    "# input value (t) can be used to forecast output (t+1):"
   ]
  },
  {
   "cell_type": "code",
   "execution_count": null,
   "metadata": {
    "collapsed": true
   },
   "outputs": [],
   "source": [
    "# \"This permits not only classical X -> y prediction, \n",
    "# but also X -> Y where both input and output can be sequences.\"\n",
    "    # Shift() works on multivariate time series problems \n",
    "    # i.e. multiple observations for a time series"
   ]
  },
  {
   "cell_type": "code",
   "execution_count": null,
   "metadata": {
    "collapsed": true
   },
   "outputs": [],
   "source": []
  },
  {
   "cell_type": "code",
   "execution_count": null,
   "metadata": {
    "collapsed": true
   },
   "outputs": [],
   "source": []
  }
 ],
 "metadata": {
  "kernelspec": {
   "display_name": "Python 3",
   "language": "python",
   "name": "python3"
  },
  "language_info": {
   "codemirror_mode": {
    "name": "ipython",
    "version": 3
   },
   "file_extension": ".py",
   "mimetype": "text/x-python",
   "name": "python",
   "nbconvert_exporter": "python",
   "pygments_lexer": "ipython3",
   "version": "3.6.1"
  }
 },
 "nbformat": 4,
 "nbformat_minor": 2
}
