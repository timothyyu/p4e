{
 "cells": [
  {
   "cell_type": "code",
   "execution_count": 6,
   "metadata": {},
   "outputs": [],
   "source": [
    "# https://github.com/jtsulliv/ML-from-scratch/blob/master/Neural-Networks/perceptron.ipynb\n",
    "# https://datascience.stackexchange.com/questions/21929/perceptron-weight-vector-update\n",
    "# https://www.freecodecamp.org/news/building-a-3-layer-neural-network-from-scratch-99239c4af5d3/\n",
    "# https://towardsdatascience.com/6-steps-to-write-any-machine-learning-algorithm-from-scratch-perceptron-case-study-335f638a70f3"
   ]
  },
  {
   "cell_type": "code",
   "execution_count": 17,
   "metadata": {},
   "outputs": [],
   "source": [
    "import numpy as np\n",
    "import matplotlib.pyplot as plt\n",
    "from past.builtins import xrange"
   ]
  },
  {
   "cell_type": "code",
   "execution_count": 18,
   "metadata": {},
   "outputs": [],
   "source": [
    "\n",
    "# NAND gate features\n",
    "# note: x0 is a dummy variable for the bias term\n",
    "#     x0  x1  x2\n",
    "x = [[1., 0., 0.],                                  \n",
    "     [1., 0., 1.],                                 \n",
    "     [1., 1., 0.],                                  \n",
    "     [1., 1., 1.]] \n",
    "\n",
    "\n",
    "# Desired outputs\n",
    "y = [1.,                                            \n",
    "     1.,                                            \n",
    "     1.,                                            \n",
    "     0.]"
   ]
  },
  {
   "cell_type": "code",
   "execution_count": 19,
   "metadata": {},
   "outputs": [],
   "source": [
    "#\n",
    "# x:   feature data \n",
    "# y:   outputs \n",
    "# z:   threshold\n",
    "# eta: learning rate\n",
    "# t:   number of iterations\n",
    "\n",
    "def perceptron_train(x, y, z, eta, t):\n",
    "    \n",
    "    # Initializing parameters for the Perceptron\n",
    "    w = np.zeros(len(x[0]))        # weights \n",
    "    n = 0                          \n",
    "    \n",
    "    # Initializing additional parameters to compute SSE\n",
    "    yhat_vec = np.ones(len(y))     # vector for predictions\n",
    "    errors = np.ones(len(y))       # vector for errors (actual - predictions)\n",
    "    J = []                         # vector for the SSE cost function\n",
    "     \n",
    "        \n",
    "    while n < t:                                  \n",
    "        for i in xrange(0, len(x)):                 \n",
    "            \n",
    "            # summation step\n",
    "            f = np.dot(x[i], w)                      \n",
    "                        \n",
    "            # activation function\n",
    "            if f > z:                               \n",
    "                yhat = 1.                               \n",
    "            else:                                   \n",
    "                yhat = 0. \n",
    "            yhat_vec[i] = yhat                              \n",
    "        \n",
    "            # updating the weights\n",
    "            for j in xrange(0, len(w)):             \n",
    "                w[j] = w[j] + eta*(y[i]-yhat)*x[i][j]\n",
    "                \n",
    "            n += 1     \n",
    "\n",
    "        \n",
    "        # computing the sum-of-squared errors\n",
    "        for i in xrange(0,len(y)):     \n",
    "           errors[i] = (y[i]-yhat_vec[i])**2\n",
    "        J.append(0.5*np.sum(errors))\n",
    "           \n",
    "    # function returns the weight vector, and sum-of-squared errors        \n",
    "    return w, J\n",
    "\n"
   ]
  },
  {
   "cell_type": "code",
   "execution_count": 33,
   "metadata": {},
   "outputs": [],
   "source": [
    "z = 0.0     # threshold\n",
    "eta = 0.1   # learning rate\n",
    "t = 50     # number of iterations"
   ]
  },
  {
   "cell_type": "code",
   "execution_count": 34,
   "metadata": {},
   "outputs": [
    {
     "name": "stdout",
     "output_type": "stream",
     "text": [
      "The weights are:\n",
      "[ 0.2 -0.2 -0.1] \n",
      "\n",
      "The sum-of-squared erros are:\n",
      "[1.0, 1.5, 1.5, 0.0, 0.0, 0.0, 0.0, 0.0, 0.0, 0.0, 0.0, 0.0, 0.0]\n"
     ]
    }
   ],
   "source": [
    "print (\"The weights are:\")\n",
    "print (perceptron_train(x, y, z, eta, t)[0], \"\\n\")\n",
    "\n",
    "print (\"The sum-of-squared erros are:\")\n",
    "print (perceptron_train(x, y, z, eta, t)[1])"
   ]
  },
  {
   "cell_type": "code",
   "execution_count": 35,
   "metadata": {},
   "outputs": [
    {
     "data": {
      "text/plain": [
       "Text(0.5, 1.0, 'Perceptron Convergence')"
      ]
     },
     "execution_count": 35,
     "metadata": {},
     "output_type": "execute_result"
    },
    {
     "data": {
      "image/png": "[encoded data removed]",
      "text/plain": [
       "<Figure size 432x288 with 1 Axes>"
      ]
     },
     "metadata": {
      "needs_background": "light"
     },
     "output_type": "display_data"
    }
   ],
   "source": [
    "J = perceptron_train(x, y, z, eta, t)[1]     # pulling out the sum-of-squared errors from the tuple\n",
    "epoch = np.linspace(1,len(J),len(J))\n",
    "\n",
    "%matplotlib inline  \n",
    "plt.plot(epoch, J)\n",
    "plt.xlabel('Epoch')\n",
    "plt.ylabel('Sum-of-Squared Error')\n",
    "plt.title('Perceptron Convergence')"
   ]
  },
  {
   "cell_type": "code",
   "execution_count": 36,
   "metadata": {},
   "outputs": [
    {
     "name": "stdout",
     "output_type": "stream",
     "text": [
      "The weights are:\n",
      "[ 1.5 -1.  -0.5] \n",
      "\n",
      "The sum-of-squared erros are:\n",
      "[1.0, 1.5, 1.5, 1.0, 0.5, 0.0, 0.0, 0.0, 0.0, 0.0, 0.0, 0.0, 0.0]\n"
     ]
    },
    {
     "data": {
      "text/plain": [
       "Text(0.5, 1.0, 'Perceptron Convergence')"
      ]
     },
     "execution_count": 36,
     "metadata": {},
     "output_type": "execute_result"
    },
    {
     "data": {
      "image/png": "[encoded data removed]",
      "text/plain": [
       "<Figure size 432x288 with 1 Axes>"
      ]
     },
     "metadata": {
      "needs_background": "light"
     },
     "output_type": "display_data"
    }
   ],
   "source": [
    "eta = 0.5     # new learning rate\n",
    "z = 0.0\n",
    "\n",
    "print (\"The weights are:\")\n",
    "print (perceptron_train(x, y, z, eta, t)[0], \"\\n\")\n",
    "\n",
    "J = perceptron_train(x, y, z, eta, t)[1]\n",
    "epoch = np.linspace(1,len(J),len(J))\n",
    "print (\"The sum-of-squared erros are:\")\n",
    "print (J)\n",
    "\n",
    "%matplotlib inline\n",
    "plt.plot(epoch, J)\n",
    "plt.xlabel('Epoch')\n",
    "plt.ylabel('Sum-of-Squared Error')\n",
    "plt.title('Perceptron Convergence')"
   ]
  },
  {
   "cell_type": "code",
   "execution_count": 37,
   "metadata": {},
   "outputs": [
    {
     "name": "stdout",
     "output_type": "stream",
     "text": [
      "The weights are:\n",
      "[ 0.8 -0.2 -0.1] \n",
      "\n",
      "The sum-of-squared erros are:\n",
      "[1.5, 1.5, 1.5, 1.0, 1.5, 1.5, 1.0, 0.5, 0.0, 0.0, 0.0, 0.0, 0.0]\n"
     ]
    },
    {
     "data": {
      "text/plain": [
       "Text(0.5, 1.0, 'Perceptron Convergence')"
      ]
     },
     "execution_count": 37,
     "metadata": {},
     "output_type": "execute_result"
    },
    {
     "data": {
      "image/png": "[encoded data removed]",
      "text/plain": [
       "<Figure size 432x288 with 1 Axes>"
      ]
     },
     "metadata": {
      "needs_background": "light"
     },
     "output_type": "display_data"
    }
   ],
   "source": [
    "eta = 0.1     \n",
    "z = 0.5     # new threshold\n",
    "\n",
    "print (\"The weights are:\")\n",
    "print (perceptron_train(x, y, z, eta, t)[0], \"\\n\")\n",
    "\n",
    "J = perceptron_train(x, y, z, eta, t)[1]\n",
    "epoch = np.linspace(1,len(J),len(J))\n",
    "print (\"The sum-of-squared erros are:\")\n",
    "print (J)\n",
    "\n",
    "%matplotlib inline\n",
    "plt.plot(epoch, J)\n",
    "plt.xlabel('Epoch')\n",
    "plt.ylabel('Sum-of-Squared Error')\n",
    "plt.title('Perceptron Convergence')"
   ]
  },
  {
   "cell_type": "code",
   "execution_count": null,
   "metadata": {},
   "outputs": [],
   "source": []
  },
  {
   "cell_type": "code",
   "execution_count": null,
   "metadata": {},
   "outputs": [],
   "source": [
    "# http://homepages.gold.ac.uk/nikolaev/311perc.htm\n",
    "\n",
    "# perceptron rule\n",
    "# gradient descent rule\n",
    "# delta rule\n",
    "\n",
    "\n",
    "# verify layer/weight updates per iteration/epoch at every step then compare output to non-python implt. in script\n",
    "    # formula to check if dataset/input/features are non-convergence state"
   ]
  },
  {
   "cell_type": "code",
   "execution_count": null,
   "metadata": {},
   "outputs": [],
   "source": []
  }
 ],
 "metadata": {
  "kernelspec": {
   "display_name": "Python 3",
   "language": "python",
   "name": "python3"
  },
  "language_info": {
   "codemirror_mode": {
    "name": "ipython",
    "version": 3
   },
   "file_extension": ".py",
   "mimetype": "text/x-python",
   "name": "python",
   "nbconvert_exporter": "python",
   "pygments_lexer": "ipython3",
   "version": "3.7.4"
  }
 },
 "nbformat": 4,
 "nbformat_minor": 4
}
