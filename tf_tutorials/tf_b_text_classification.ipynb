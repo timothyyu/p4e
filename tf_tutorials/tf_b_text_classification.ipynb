{
 "cells": [
  {
   "cell_type": "code",
   "execution_count": 1,
   "metadata": {},
   "outputs": [],
   "source": [
    "#https://www.tensorflow.org/tutorials/keras/text_classification_with_hub\n"
   ]
  },
  {
   "cell_type": "code",
   "execution_count": 2,
   "metadata": {},
   "outputs": [
    {
     "name": "stdout",
     "output_type": "stream",
     "text": [
      "Version:  2.0.0\n",
      "Eager mode:  True\n",
      "Hub version:  0.7.0\n",
      "GPU is available\n"
     ]
    }
   ],
   "source": [
    "from __future__ import absolute_import, division, print_function, unicode_literals\n",
    "\n",
    "import numpy as np\n",
    "import tensorflow as tf\n",
    "import tensorflow_hub as hub\n",
    "import tensorflow_datasets as tfds\n",
    "\n",
    "print(\"Version: \", tf.__version__)\n",
    "print(\"Eager mode: \", tf.executing_eagerly())\n",
    "print(\"Hub version: \", hub.__version__)\n",
    "print(\"GPU is\", \"available\" if tf.config.experimental.list_physical_devices(\"GPU\") else \"NOT AVAILABLE\")"
   ]
  },
  {
   "cell_type": "code",
   "execution_count": 3,
   "metadata": {},
   "outputs": [],
   "source": [
    "# DL IMDB dataset"
   ]
  },
  {
   "cell_type": "code",
   "execution_count": 4,
   "metadata": {},
   "outputs": [],
   "source": [
    "# Split the training set into 60% and 40%, so we'll end up with 15,000 examples\n",
    "# for training, 10,000 examples for validation and 25,000 examples for testing.\n",
    "train_validation_split = tfds.Split.TRAIN.subsplit([6, 4])\n",
    "\n",
    "(train_data, validation_data), test_data = tfds.load(\n",
    "    name=\"imdb_reviews\", \n",
    "    split=(train_validation_split, tfds.Split.TEST),\n",
    "    as_supervised=True)"
   ]
  },
  {
   "cell_type": "code",
   "execution_count": 5,
   "metadata": {},
   "outputs": [],
   "source": [
    "# binary/two class classification\n",
    "    # training and testing set are equal in size = thus, balanced test/train split"
   ]
  },
  {
   "cell_type": "code",
   "execution_count": 6,
   "metadata": {},
   "outputs": [
    {
     "data": {
      "text/plain": [
       "<tf.Tensor: id=219, shape=(10,), dtype=string, numpy=\n",
       "array([b\"As a lifelong fan of Dickens, I have invariably been disappointed by adaptations of his novels.<br /><br />Although his works presented an extremely accurate re-telling of human life at every level in Victorian Britain, throughout them all was a pervasive thread of humour that could be both playful or sarcastic as the narrative dictated. In a way, he was a literary caricaturist and cartoonist. He could be serious and hilarious in the same sentence. He pricked pride, lampooned arrogance, celebrated modesty, and empathised with loneliness and poverty. It may be a clich\\xc3\\xa9, but he was a people's writer.<br /><br />And it is the comedy that is so often missing from his interpretations. At the time of writing, Oliver Twist is being dramatised in serial form on BBC television. All of the misery and cruelty is their, but non of the humour, irony, and savage lampoonery. The result is just a dark, dismal experience: the story penned by a journalist rather than a novelist. It's not really Dickens at all.<br /><br />'Oliver!', on the other hand, is much closer to the mark. The mockery of officialdom is perfectly interpreted, from the blustering beadle to the drunken magistrate. The classic stand-off between the beadle and Mr Brownlow, in which the law is described as 'a ass, a idiot' couldn't have been better done. Harry Secombe is an ideal choice.<br /><br />But the blinding cruelty is also there, the callous indifference of the state, the cold, hunger, poverty and loneliness are all presented just as surely as The Master would have wished.<br /><br />And then there is crime. Ron Moody is a treasure as the sleazy Jewish fence, whilst Oliver Reid has Bill Sykes to perfection.<br /><br />Perhaps not surprisingly, Lionel Bart - himself a Jew from London's east-end - takes a liberty with Fagin by re-interpreting him as a much more benign fellow than was Dicken's original. In the novel, he was utterly ruthless, sending some of his own boys to the gallows in order to protect himself (though he was also caught and hanged). Whereas in the movie, he is presented as something of a wayward father-figure, a sort of charitable thief rather than a corrupter of children, the latter being a long-standing anti-semitic sentiment. Otherwise, very few liberties are taken with Dickens's original. All of the most memorable elements are included. Just enough menace and violence is retained to ensure narrative fidelity whilst at the same time allowing for children' sensibilities. Nancy is still beaten to death, Bullseye narrowly escapes drowning, and Bill Sykes gets a faithfully graphic come-uppance.<br /><br />Every song is excellent, though they do incline towards schmaltz. Mark Lester mimes his wonderfully. Both his and my favourite scene is the one in which the world comes alive to 'who will buy'. It's schmaltzy, but it's Dickens through and through.<br /><br />I could go on. I could commend the wonderful set-pieces, the contrast of the rich and poor. There is top-quality acting from more British regulars than you could shake a stick at.<br /><br />I ought to give it 10 points, but I'm feeling more like Scrooge today. Soak it up with your Christmas dinner. No original has been better realised.\",\n",
       "       b\"Oh yeah! Jenna Jameson did it again! Yeah Baby! This movie rocks. It was one of the 1st movies i saw of her. And i have to say i feel in love with her, she was great in this move.<br /><br />Her performance was outstanding and what i liked the most was the scenery and the wardrobe it was amazing you can tell that they put a lot into the movie the girls cloth were amazing.<br /><br />I hope this comment helps and u can buy the movie, the storyline is awesome is very unique and i'm sure u are going to like it. Jenna amazed us once more and no wonder the movie won so many awards. Her make-up and wardrobe is very very sexy and the girls on girls scene is amazing. specially the one where she looks like an angel. It's a must see and i hope u share my interests\",\n",
       "       b\"I saw this film on True Movies (which automatically made me sceptical) but actually - it was good. Why? Not because of the amazing plot twists or breathtaking dialogue (of which there is little) but because actually, despite what people say I thought the film was accurate in it's depiction of teenagers dealing with pregnancy.<br /><br />It's NOT Dawson's Creek, they're not graceful, cool witty characters who breeze through sexuality with effortless knowledge. They're kids and they act like kids would. <br /><br />They're blunt, awkward and annoyingly confused about everything. Yes, this could be by accident and they could just be bad actors but I don't think so. Dermot Mulroney gives (when not trying to be cool) a very believable performance and I loved him for it. Patricia Arquette IS whiny and annoying, but she was pregnant and a teenagers? The combination of the two isn't exactly lavender on your pillow. The plot was VERY predictable and but so what? I believed them, his stress and inability to cope - her brave, yet slightly misguided attempts to bring them closer together. I think the characters, acted by anyone else, WOULD indeed have been annoying and unbelievable but they weren't. It reflects the surreality of the situation they're in, that he's sitting in class and she walks on campus with the baby. I felt angry at her for that, I felt angry at him for being such a child and for blaming her. I felt it all.<br /><br />In the end, I loved it and would recommend it.<br /><br />Watch out for the scene where Dermot Mulroney runs from the disastrous counselling session - career performance.\",\n",
       "       b'This was a wonderfully clever and entertaining movie that I shall never tire of watching many, many times. The casting was magnificent in matching up the young with the older characters. There are those of us out here who really do appreciate good actors and an intelligent story format. As for Judi Dench, she is beautiful and a gift to any kind of production in which she stars. I always make a point to see Judi Dench in all her performances. She is a superb actress and a pleasure to watch as each transformation of her character comes to life. I can only be grateful when I see such an outstanding picture for most of the motion pictures made more recently lack good characters, good scripts and good acting. The movie public needs heroes, not deviant manikins, who lack ingenuity and talent. How wonderful to see old favorites like Leslie Caron, Olympia Dukakis and Cleo Laine. I would like to see this movie win the awards it deserves. Thank you again for a tremendous night of entertainment. I congratulate the writer, director, producer, and all those who did such a fine job.',\n",
       "       b'I have no idea what the other reviewer is talking about- this was a wonderful movie, and created a sense of the era that feels like time travel. The characters are truly young, Mary is a strong match for Byron, Claire is juvenile and a tad annoying, Polidori is a convincing beaten-down sycophant... all are beautiful, curious, and decadent... not the frightening wrecks they are in Gothic.<br /><br />Gothic works as an independent piece of shock film, and I loved it for different reasons, but this works like a Merchant and Ivory film, and was from my readings the best capture of what the summer must have felt like. Romantic, yes, but completely rekindles my interest in the lives of Shelley and Byron every time I think about the film. One of my all-time favorites.',\n",
       "       b\"This was soul-provoking! I am an Iranian, and living in th 21st century, I didn't know that such big tribes have been living in such conditions at the time of my grandfather!<br /><br />You see that today, or even in 1925, on one side of the world a lady or a baby could have everything served for him or her clean and on-demand, but here 80 years ago, people ventured their life to go to somewhere with more grass. It's really interesting that these Persians bear those difficulties to find pasture for their sheep, but they lose many the sheep on their way.<br /><br />I praise the Americans who accompanied this tribe, they were as tough as Bakhtiari people.\",\n",
       "       b'Just because someone is under the age of 10 does not mean they are stupid. If your child likes this film you\\'d better have him/her tested. I am continually amazed at how so many people can be involved in something that turns out so bad. This \"film\" is a showcase for digital wizardry AND NOTHING ELSE. The writing is horrid. I can\\'t remember when I\\'ve heard such bad dialogue. The songs are beyond wretched. The acting is sub-par but then the actors were not given much. Who decided to employ Joey Fatone? He cannot sing and he is ugly as sin.<br /><br />The worst thing is the obviousness of it all. It is as if the writers went out of their way to make it all as stupid as possible. Great children\\'s movies are wicked, smart and full of wit - films like Shrek and Toy Story in recent years, Willie Wonka and The Witches to mention two of the past. But in the continual dumbing-down of American more are flocking to dreck like Finding Nemo (yes, that\\'s right), the recent Charlie & The Chocolate Factory and eye-crossing trash like Red Riding Hood.',\n",
       "       b\"I absolutely LOVED this movie when I was a kid. I cried every time I watched it. It wasn't weird to me. I totally identified with the characters. I would love to see it again (and hope I wont be disappointed!). Pufnstuf rocks!!!! I was really drawn in to the fantasy world. And to me the movie was loooong. I wonder if I ever saw the series and have confused them? The acting I thought was strong. I loved Jack Wilde. He was so dreamy to an 10 year old (when I first saw the movie, not in 1970. I can still remember the characters vividly. The flute was totally believable and I can still 'feel' the evil woods. Witchy poo was scary - I wouldn't want to cross her path.\",\n",
       "       b'A very close and sharp discription of the bubbling and dynamic emotional world of specialy one 18year old guy, that makes his first experiences in his gay love to an other boy, during an vacation with a part of his family.<br /><br />I liked this film because of his extremly clear and surrogated storytelling , with all this \"Sound-close-ups\" and quiet moments wich had been full of intensive moods.<br /><br />',\n",
       "       b\"This is the most depressing film I have ever seen. I first saw it as a child and even thinking about it now really upsets me. I know it was set in a time when life was hard and I know these people were poor and the crops were vital. Yes, I get all that. What I find hard to take is I can't remember one single light moment in the entire film. Maybe it was true to life, I don't know. I'm quite sure the acting was top notch and the direction and quality of filming etc etc was wonderful and I know that every film can't have a happy ending but as a family film it is dire in my opinion.<br /><br />I wouldn't recommend it to anyone who wants to be entertained by a film. I can't stress enough how this film affected me as a child. I was talking about it recently and all the sad memories came flooding back. I think it would have all but the heartless reaching for the Prozac.\"],\n",
       "      dtype=object)>"
      ]
     },
     "execution_count": 6,
     "metadata": {},
     "output_type": "execute_result"
    }
   ],
   "source": [
    "# format:\n",
    "    # each unit/example is a sentence representing the movie review + a corresponding label\n",
    "        # label is 0 or 1; 0 is negative review, 1 is positive\n",
    "# print the first ten examples:\n",
    "train_examples_batch, train_labels_batch = next(iter(train_data.batch(10)))\n",
    "train_examples_batch"
   ]
  },
  {
   "cell_type": "code",
   "execution_count": 7,
   "metadata": {},
   "outputs": [
    {
     "data": {
      "text/plain": [
       "<tf.Tensor: id=220, shape=(10,), dtype=int64, numpy=array([1, 1, 1, 1, 1, 1, 0, 1, 1, 0], dtype=int64)>"
      ]
     },
     "execution_count": 7,
     "metadata": {},
     "output_type": "execute_result"
    }
   ],
   "source": [
    "# print first ten labels\n",
    "train_labels_batch"
   ]
  },
  {
   "cell_type": "code",
   "execution_count": 8,
   "metadata": {},
   "outputs": [],
   "source": [
    "# NN ---> stacked layers\n",
    "    # how to represent the text?\n",
    "    # how many layers to use in the model?\n",
    "    # how many hidden units to use for each layer?\n",
    "\n",
    "# input data ----> sentences, with labels/target to predict of 0 or 1\n",
    "    # converting sentences into embedding vectors (one way to represent the text)"
   ]
  },
  {
   "cell_type": "code",
   "execution_count": 9,
   "metadata": {},
   "outputs": [
    {
     "data": {
      "text/plain": [
       "<tf.Tensor: id=402, shape=(3, 20), dtype=float32, numpy=\n",
       "array([[ 3.9819887 , -4.4838037 ,  5.177359  , -2.3643482 , -3.2938678 ,\n",
       "        -3.5364532 , -2.4786978 ,  2.5525482 ,  6.688532  , -2.3076782 ,\n",
       "        -1.9807833 ,  1.1315885 , -3.0339816 , -0.7604128 , -5.743445  ,\n",
       "         3.4242578 ,  4.790099  , -4.03061   , -5.992149  , -1.7297493 ],\n",
       "       [ 3.4232912 , -4.230874  ,  4.1488533 , -0.29553518, -6.802391  ,\n",
       "        -2.5163853 , -4.4002395 ,  1.905792  ,  4.7512794 , -0.40538004,\n",
       "        -4.3401685 ,  1.0361497 ,  0.9744097 ,  0.71507156, -6.2657013 ,\n",
       "         0.16533905,  4.560262  , -1.3106939 , -3.1121316 , -2.1338716 ],\n",
       "       [ 3.8508697 , -5.003031  ,  4.8700504 , -0.04324996, -5.893603  ,\n",
       "        -5.2983093 , -4.004676  ,  4.1236343 ,  6.267754  ,  0.11632943,\n",
       "        -3.5934832 ,  0.8023905 ,  0.56146765,  0.9192484 , -7.3066816 ,\n",
       "         2.8202746 ,  6.2000837 , -3.5709393 , -4.564525  , -2.305622  ]],\n",
       "      dtype=float32)>"
      ]
     },
     "execution_count": 9,
     "metadata": {},
     "output_type": "execute_result"
    }
   ],
   "source": [
    "# create keras layer that uses a pre-trained TF hub model to embed the sentences and test on a few examples:\n",
    "embedding = \"https://tfhub.dev/google/tf2-preview/gnews-swivel-20dim/1\"\n",
    "    # pre trained model from tensorflow hub\n",
    "hub_layer = hub.KerasLayer(embedding, input_shape=[], \n",
    "                           dtype=tf.string, trainable=True)\n",
    "hub_layer(train_examples_batch[:3])"
   ]
  },
  {
   "cell_type": "code",
   "execution_count": 10,
   "metadata": {},
   "outputs": [
    {
     "name": "stdout",
     "output_type": "stream",
     "text": [
      "Model: \"sequential\"\n",
      "_________________________________________________________________\n",
      "Layer (type)                 Output Shape              Param #   \n",
      "=================================================================\n",
      "keras_layer (KerasLayer)     (None, 20)                400020    \n",
      "_________________________________________________________________\n",
      "dense (Dense)                (None, 16)                336       \n",
      "_________________________________________________________________\n",
      "dense_1 (Dense)              (None, 1)                 17        \n",
      "=================================================================\n",
      "Total params: 400,373\n",
      "Trainable params: 400,373\n",
      "Non-trainable params: 0\n",
      "_________________________________________________________________\n"
     ]
    }
   ],
   "source": [
    "# build full model:\n",
    "model = tf.keras.Sequential()\n",
    "model.add(hub_layer)\n",
    "model.add(tf.keras.layers.Dense(16, activation='relu'))\n",
    "model.add(tf.keras.layers.Dense(1, activation='sigmoid'))\n",
    "\n",
    "model.summary()"
   ]
  },
  {
   "cell_type": "code",
   "execution_count": 11,
   "metadata": {},
   "outputs": [],
   "source": [
    "# configure model to use optimizer and loss function \n",
    "    # binary_crossentropy ----> binary classification problem and model outputs a probability \n",
    "model.compile(optimizer='adam',\n",
    "              loss='binary_crossentropy',\n",
    "              metrics=['accuracy'])"
   ]
  },
  {
   "cell_type": "code",
   "execution_count": 12,
   "metadata": {},
   "outputs": [],
   "source": [
    "# train model for 20 epochs, in mini batches of 512 samples\n",
    "    # monitor model loss/accuracy on the the validation set while training"
   ]
  },
  {
   "cell_type": "code",
   "execution_count": 13,
   "metadata": {},
   "outputs": [
    {
     "name": "stdout",
     "output_type": "stream",
     "text": [
      "Epoch 1/20\n",
      "30/30 [==============================].7508 - accuracy: 0.54 - 1s 621ms/step - loss: 0.7886 - accuracy: 0.509 - 1s 437ms/step - loss: 0.7983 - accuracy: 0.492 - 1s 344ms/step - loss: 0.7998 - accuracy: 0.484 - 1s 288ms/step - loss: 0.7911 - accuracy: 0.488 - 1s 250ms/step - loss: 0.7832 - accuracy: 0.498 - 2s 222ms/step - loss: 0.7770 - accuracy: 0.498 - 2s 201ms/step - loss: 0.7733 - accuracy: 0.495 - 2s 185ms/step - loss: 0.7648 - accuracy: 0.502 - 2s 172ms/step - loss: 0.7606 - accuracy: 0.501 - 2s 160ms/step - loss: 0.7562 - accuracy: 0.503 - 2s 151ms/step - loss: 0.7548 - accuracy: 0.499 - 2s 143ms/step - loss: 0.7506 - accuracy: 0.501 - 2s 136ms/step - loss: 0.7475 - accuracy: 0.500 - 2s 130ms/step - loss: 0.7439 - accuracy: 0.501 - 2s 125ms/step - loss: 0.7405 - accuracy: 0.504 - 2s 121ms/step - loss: 0.7375 - accuracy: 0.505 - 2s 116ms/step - loss: 0.7345 - accuracy: 0.508 - 2s 113ms/step - loss: 0.7318 - accuracy: 0.510 - 2s 110ms/step - loss: 0.7287 - accuracy: 0.513 - 2s 106ms/step - loss: 0.7261 - accuracy: 0.516 - 2s 104ms/step - loss: 0.7235 - accuracy: 0.519 - 2s 101ms/step - loss: 0.7212 - accuracy: 0.521 - 2s 99ms/step - loss: 0.7188 - accuracy: 0.523 - 2s 97ms/step - loss: 0.7162 - accuracy: 0.52 - 2s 95ms/step - loss: 0.7139 - accuracy: 0.53 - 3s 94ms/step - loss: 0.7114 - accuracy: 0.53 - 3s 92ms/step - loss: 0.7093 - accuracy: 0.53 - 3s 90ms/step - loss: 0.7074 - accuracy: 0.54 - 3s 88ms/step - loss: 0.7065 - accuracy: 0.54 - 4s 127ms/step - loss: 0.7065 - accuracy: 0.5412 - val_loss: 0.0000e+00 - val_accuracy: 0.0000e+00\n",
      "Epoch 2/20\n",
      "30/30 [==============================] - ETA: 9s - loss: 0.6549 - accuracy: 0.64 - ETA: 5s - loss: 0.6553 - accuracy: 0.63 - ETA: 3s - loss: 0.6525 - accuracy: 0.63 - ETA: 2s - loss: 0.6519 - accuracy: 0.63 - ETA: 2s - loss: 0.6511 - accuracy: 0.63 - ETA: 1s - loss: 0.6481 - accuracy: 0.64 - ETA: 1s - loss: 0.6459 - accuracy: 0.64 - ETA: 1s - loss: 0.6486 - accuracy: 0.64 - ETA: 1s - loss: 0.6462 - accuracy: 0.64 - ETA: 0s - loss: 0.6452 - accuracy: 0.64 - ETA: 0s - loss: 0.6428 - accuracy: 0.64 - ETA: 0s - loss: 0.6401 - accuracy: 0.65 - ETA: 0s - loss: 0.6395 - accuracy: 0.65 - ETA: 0s - loss: 0.6379 - accuracy: 0.65 - 3s 100ms/step - loss: 0.6357 - accuracy: 0.6585 - val_loss: 0.6193 - val_accuracy: 0.6712\n",
      "Epoch 3/20\n",
      "30/30 [==============================] - ETA: 9s - loss: 0.6132 - accuracy: 0.69 - ETA: 5s - loss: 0.6238 - accuracy: 0.66 - ETA: 3s - loss: 0.6202 - accuracy: 0.65 - ETA: 2s - loss: 0.6170 - accuracy: 0.66 - ETA: 2s - loss: 0.6129 - accuracy: 0.67 - ETA: 1s - loss: 0.6112 - accuracy: 0.67 - ETA: 1s - loss: 0.6074 - accuracy: 0.67 - ETA: 1s - loss: 0.6063 - accuracy: 0.67 - ETA: 1s - loss: 0.6063 - accuracy: 0.68 - ETA: 0s - loss: 0.6091 - accuracy: 0.68 - ETA: 0s - loss: 0.6122 - accuracy: 0.67 - ETA: 0s - loss: 0.6102 - accuracy: 0.67 - ETA: 0s - loss: 0.6088 - accuracy: 0.67 - ETA: 0s - loss: 0.6085 - accuracy: 0.68 - 3s 100ms/step - loss: 0.6057 - accuracy: 0.6886 - val_loss: 0.5907 - val_accuracy: 0.7030\n",
      "Epoch 4/20\n",
      "30/30 [==============================] - ETA: 9s - loss: 0.6090 - accuracy: 0.70 - ETA: 4s - loss: 0.5802 - accuracy: 0.72 - ETA: 3s - loss: 0.5828 - accuracy: 0.71 - ETA: 2s - loss: 0.5871 - accuracy: 0.70 - ETA: 2s - loss: 0.5879 - accuracy: 0.70 - ETA: 1s - loss: 0.5862 - accuracy: 0.70 - ETA: 1s - loss: 0.5873 - accuracy: 0.70 - ETA: 1s - loss: 0.5842 - accuracy: 0.70 - ETA: 1s - loss: 0.5827 - accuracy: 0.70 - ETA: 1s - loss: 0.5828 - accuracy: 0.70 - ETA: 0s - loss: 0.5795 - accuracy: 0.71 - ETA: 0s - loss: 0.5768 - accuracy: 0.71 - ETA: 0s - loss: 0.5763 - accuracy: 0.71 - ETA: 0s - loss: 0.5742 - accuracy: 0.71 - ETA: 0s - loss: 0.5759 - accuracy: 0.71 - 3s 101ms/step - loss: 0.5737 - accuracy: 0.7232 - val_loss: 0.5613 - val_accuracy: 0.7215\n",
      "Epoch 5/20\n",
      "30/30 [==============================] - ETA: 9s - loss: 0.5448 - accuracy: 0.73 - ETA: 5s - loss: 0.5530 - accuracy: 0.71 - ETA: 3s - loss: 0.5536 - accuracy: 0.71 - ETA: 2s - loss: 0.5491 - accuracy: 0.72 - ETA: 2s - loss: 0.5522 - accuracy: 0.72 - ETA: 1s - loss: 0.5460 - accuracy: 0.73 - ETA: 1s - loss: 0.5482 - accuracy: 0.73 - ETA: 1s - loss: 0.5467 - accuracy: 0.73 - ETA: 1s - loss: 0.5454 - accuracy: 0.73 - ETA: 0s - loss: 0.5464 - accuracy: 0.73 - ETA: 0s - loss: 0.5431 - accuracy: 0.73 - ETA: 0s - loss: 0.5416 - accuracy: 0.73 - ETA: 0s - loss: 0.5407 - accuracy: 0.74 - ETA: 0s - loss: 0.5418 - accuracy: 0.73 - 3s 102ms/step - loss: 0.5403 - accuracy: 0.7423 - val_loss: 0.5328 - val_accuracy: 0.7439\n",
      "Epoch 6/20\n",
      "30/30 [==============================] - ETA: 9s - loss: 0.5428 - accuracy: 0.73 - ETA: 5s - loss: 0.5466 - accuracy: 0.73 - ETA: 3s - loss: 0.5354 - accuracy: 0.74 - ETA: 2s - loss: 0.5347 - accuracy: 0.74 - ETA: 2s - loss: 0.5369 - accuracy: 0.73 - ETA: 1s - loss: 0.5337 - accuracy: 0.74 - ETA: 1s - loss: 0.5312 - accuracy: 0.74 - ETA: 1s - loss: 0.5278 - accuracy: 0.74 - ETA: 1s - loss: 0.5240 - accuracy: 0.74 - ETA: 0s - loss: 0.5194 - accuracy: 0.75 - ETA: 0s - loss: 0.5153 - accuracy: 0.75 - ETA: 0s - loss: 0.5163 - accuracy: 0.75 - ETA: 0s - loss: 0.5166 - accuracy: 0.75 - ETA: 0s - loss: 0.5155 - accuracy: 0.75 - 3s 102ms/step - loss: 0.5114 - accuracy: 0.7655 - val_loss: 0.5037 - val_accuracy: 0.7648\n",
      "Epoch 7/20\n",
      "30/30 [==============================] - ETA: 9s - loss: 0.4915 - accuracy: 0.78 - ETA: 5s - loss: 0.4737 - accuracy: 0.79 - ETA: 3s - loss: 0.4746 - accuracy: 0.78 - ETA: 2s - loss: 0.4749 - accuracy: 0.78 - ETA: 2s - loss: 0.4787 - accuracy: 0.78 - ETA: 1s - loss: 0.4782 - accuracy: 0.77 - ETA: 1s - loss: 0.4816 - accuracy: 0.77 - ETA: 1s - loss: 0.4826 - accuracy: 0.77 - ETA: 1s - loss: 0.4779 - accuracy: 0.77 - ETA: 1s - loss: 0.4762 - accuracy: 0.77 - ETA: 0s - loss: 0.4723 - accuracy: 0.78 - ETA: 0s - loss: 0.4767 - accuracy: 0.77 - ETA: 0s - loss: 0.4780 - accuracy: 0.77 - ETA: 0s - loss: 0.4762 - accuracy: 0.77 - ETA: 0s - loss: 0.4733 - accuracy: 0.78 - 3s 102ms/step - loss: 0.4732 - accuracy: 0.7847 - val_loss: 0.4769 - val_accuracy: 0.7776\n",
      "Epoch 8/20\n",
      "30/30 [==============================] - ETA: 9s - loss: 0.4780 - accuracy: 0.77 - ETA: 5s - loss: 0.4705 - accuracy: 0.78 - ETA: 3s - loss: 0.4596 - accuracy: 0.79 - ETA: 2s - loss: 0.4586 - accuracy: 0.79 - ETA: 2s - loss: 0.4545 - accuracy: 0.79 - ETA: 1s - loss: 0.4503 - accuracy: 0.79 - ETA: 1s - loss: 0.4487 - accuracy: 0.80 - ETA: 1s - loss: 0.4449 - accuracy: 0.80 - ETA: 1s - loss: 0.4432 - accuracy: 0.80 - ETA: 0s - loss: 0.4413 - accuracy: 0.80 - ETA: 0s - loss: 0.4451 - accuracy: 0.80 - ETA: 0s - loss: 0.4454 - accuracy: 0.80 - ETA: 0s - loss: 0.4447 - accuracy: 0.80 - ETA: 0s - loss: 0.4450 - accuracy: 0.80 - 3s 102ms/step - loss: 0.4439 - accuracy: 0.8055 - val_loss: 0.4520 - val_accuracy: 0.7923\n",
      "Epoch 9/20\n",
      "30/30 [==============================] - ETA: 9s - loss: 0.4331 - accuracy: 0.81 - ETA: 5s - loss: 0.4381 - accuracy: 0.80 - ETA: 3s - loss: 0.4302 - accuracy: 0.81 - ETA: 2s - loss: 0.4184 - accuracy: 0.81 - ETA: 2s - loss: 0.4234 - accuracy: 0.81 - ETA: 1s - loss: 0.4240 - accuracy: 0.81 - ETA: 1s - loss: 0.4218 - accuracy: 0.81 - ETA: 1s - loss: 0.4217 - accuracy: 0.81 - ETA: 1s - loss: 0.4218 - accuracy: 0.81 - ETA: 0s - loss: 0.4158 - accuracy: 0.81 - ETA: 0s - loss: 0.4184 - accuracy: 0.81 - ETA: 0s - loss: 0.4178 - accuracy: 0.81 - ETA: 0s - loss: 0.4150 - accuracy: 0.81 - ETA: 0s - loss: 0.4126 - accuracy: 0.81 - 3s 102ms/step - loss: 0.4120 - accuracy: 0.8229 - val_loss: 0.4281 - val_accuracy: 0.8027\n",
      "Epoch 10/20\n",
      "30/30 [==============================] - ETA: 9s - loss: 0.4008 - accuracy: 0.84 - ETA: 5s - loss: 0.4032 - accuracy: 0.83 - ETA: 3s - loss: 0.4071 - accuracy: 0.82 - ETA: 2s - loss: 0.4077 - accuracy: 0.83 - ETA: 2s - loss: 0.3997 - accuracy: 0.83 - ETA: 1s - loss: 0.4008 - accuracy: 0.83 - ETA: 1s - loss: 0.3936 - accuracy: 0.83 - ETA: 1s - loss: 0.3910 - accuracy: 0.83 - ETA: 1s - loss: 0.3892 - accuracy: 0.83 - ETA: 0s - loss: 0.3902 - accuracy: 0.83 - ETA: 0s - loss: 0.3870 - accuracy: 0.84 - ETA: 0s - loss: 0.3849 - accuracy: 0.84 - ETA: 0s - loss: 0.3845 - accuracy: 0.84 - ETA: 0s - loss: 0.3855 - accuracy: 0.84 - ETA: 0s - loss: 0.3842 - accuracy: 0.84 - 3s 101ms/step - loss: 0.3837 - accuracy: 0.8396 - val_loss: 0.4082 - val_accuracy: 0.8134\n",
      "Epoch 11/20\n",
      "30/30 [==============================] - ETA: 9s - loss: 0.3923 - accuracy: 0.83 - ETA: 5s - loss: 0.3697 - accuracy: 0.84 - ETA: 3s - loss: 0.3653 - accuracy: 0.84 - ETA: 2s - loss: 0.3622 - accuracy: 0.84 - ETA: 2s - loss: 0.3595 - accuracy: 0.85 - ETA: 1s - loss: 0.3597 - accuracy: 0.84 - ETA: 1s - loss: 0.3628 - accuracy: 0.84 - ETA: 1s - loss: 0.3641 - accuracy: 0.84 - ETA: 1s - loss: 0.3658 - accuracy: 0.84 - ETA: 1s - loss: 0.3648 - accuracy: 0.84 - ETA: 0s - loss: 0.3618 - accuracy: 0.84 - ETA: 0s - loss: 0.3661 - accuracy: 0.84 - ETA: 0s - loss: 0.3659 - accuracy: 0.84 - ETA: 0s - loss: 0.3630 - accuracy: 0.84 - ETA: 0s - loss: 0.3646 - accuracy: 0.84 - 3s 101ms/step - loss: 0.3616 - accuracy: 0.8515 - val_loss: 0.3903 - val_accuracy: 0.8235\n",
      "Epoch 12/20\n",
      "30/30 [==============================] - ETA: 9s - loss: 0.3341 - accuracy: 0.85 - ETA: 5s - loss: 0.3441 - accuracy: 0.85 - ETA: 3s - loss: 0.3354 - accuracy: 0.85 - ETA: 2s - loss: 0.3379 - accuracy: 0.85 - ETA: 2s - loss: 0.3376 - accuracy: 0.86 - ETA: 2s - loss: 0.3335 - accuracy: 0.86 - ETA: 1s - loss: 0.3399 - accuracy: 0.86 - ETA: 1s - loss: 0.3426 - accuracy: 0.85 - ETA: 1s - loss: 0.3401 - accuracy: 0.85 - ETA: 0s - loss: 0.3381 - accuracy: 0.86 - ETA: 0s - loss: 0.3383 - accuracy: 0.86 - ETA: 0s - loss: 0.3386 - accuracy: 0.86 - ETA: 0s - loss: 0.3390 - accuracy: 0.86 - ETA: 0s - loss: 0.3397 - accuracy: 0.85 - 3s 102ms/step - loss: 0.3370 - accuracy: 0.8631 - val_loss: 0.3747 - val_accuracy: 0.8311\n",
      "Epoch 13/20\n",
      "30/30 [==============================] - ETA: 9s - loss: 0.3617 - accuracy: 0.84 - ETA: 5s - loss: 0.3448 - accuracy: 0.85 - ETA: 3s - loss: 0.3399 - accuracy: 0.85 - ETA: 2s - loss: 0.3403 - accuracy: 0.85 - ETA: 2s - loss: 0.3348 - accuracy: 0.86 - ETA: 1s - loss: 0.3306 - accuracy: 0.86 - ETA: 1s - loss: 0.3230 - accuracy: 0.86 - ETA: 1s - loss: 0.3221 - accuracy: 0.86 - ETA: 1s - loss: 0.3212 - accuracy: 0.86 - ETA: 0s - loss: 0.3206 - accuracy: 0.87 - ETA: 0s - loss: 0.3214 - accuracy: 0.87 - ETA: 0s - loss: 0.3184 - accuracy: 0.87 - ETA: 0s - loss: 0.3155 - accuracy: 0.87 - ETA: 0s - loss: 0.3151 - accuracy: 0.87 - ETA: 0s - loss: 0.3152 - accuracy: 0.87 - 3s 102ms/step - loss: 0.3132 - accuracy: 0.8758 - val_loss: 0.3613 - val_accuracy: 0.8370\n",
      "Epoch 14/20\n",
      "30/30 [==============================] - ETA: 9s - loss: 0.3079 - accuracy: 0.87 - ETA: 5s - loss: 0.3026 - accuracy: 0.88 - ETA: 3s - loss: 0.2919 - accuracy: 0.88 - ETA: 2s - loss: 0.2948 - accuracy: 0.87 - ETA: 2s - loss: 0.2949 - accuracy: 0.87 - ETA: 1s - loss: 0.2949 - accuracy: 0.88 - ETA: 1s - loss: 0.2987 - accuracy: 0.87 - ETA: 1s - loss: 0.2950 - accuracy: 0.88 - ETA: 1s - loss: 0.2910 - accuracy: 0.88 - ETA: 0s - loss: 0.2931 - accuracy: 0.88 - ETA: 0s - loss: 0.2926 - accuracy: 0.88 - ETA: 0s - loss: 0.2909 - accuracy: 0.88 - ETA: 0s - loss: 0.2904 - accuracy: 0.88 - ETA: 0s - loss: 0.2935 - accuracy: 0.88 - 3s 101ms/step - loss: 0.2923 - accuracy: 0.8850 - val_loss: 0.3499 - val_accuracy: 0.8445\n",
      "Epoch 15/20\n",
      "30/30 [==============================] - ETA: 9s - loss: 0.2693 - accuracy: 0.91 - ETA: 5s - loss: 0.2915 - accuracy: 0.88 - ETA: 3s - loss: 0.2854 - accuracy: 0.88 - ETA: 2s - loss: 0.2888 - accuracy: 0.88 - ETA: 2s - loss: 0.2874 - accuracy: 0.88 - ETA: 1s - loss: 0.2885 - accuracy: 0.88 - ETA: 1s - loss: 0.2913 - accuracy: 0.88 - ETA: 1s - loss: 0.2878 - accuracy: 0.88 - ETA: 1s - loss: 0.2875 - accuracy: 0.88 - ETA: 0s - loss: 0.2854 - accuracy: 0.88 - ETA: 0s - loss: 0.2823 - accuracy: 0.88 - ETA: 0s - loss: 0.2796 - accuracy: 0.89 - ETA: 0s - loss: 0.2779 - accuracy: 0.89 - ETA: 0s - loss: 0.2758 - accuracy: 0.89 - 3s 102ms/step - loss: 0.2744 - accuracy: 0.8940 - val_loss: 0.3398 - val_accuracy: 0.8512\n",
      "Epoch 16/20\n",
      "30/30 [==============================] - ETA: 9s - loss: 0.2003 - accuracy: 0.92 - ETA: 5s - loss: 0.2430 - accuracy: 0.90 - ETA: 3s - loss: 0.2517 - accuracy: 0.90 - ETA: 2s - loss: 0.2500 - accuracy: 0.90 - ETA: 2s - loss: 0.2554 - accuracy: 0.90 - ETA: 1s - loss: 0.2518 - accuracy: 0.90 - ETA: 1s - loss: 0.2539 - accuracy: 0.90 - ETA: 1s - loss: 0.2536 - accuracy: 0.90 - ETA: 1s - loss: 0.2530 - accuracy: 0.90 - ETA: 1s - loss: 0.2530 - accuracy: 0.90 - ETA: 0s - loss: 0.2559 - accuracy: 0.89 - ETA: 0s - loss: 0.2530 - accuracy: 0.90 - ETA: 0s - loss: 0.2501 - accuracy: 0.90 - ETA: 0s - loss: 0.2504 - accuracy: 0.90 - 3s 102ms/step - loss: 0.2534 - accuracy: 0.9000 - val_loss: 0.3314 - val_accuracy: 0.8553\n",
      "Epoch 17/20\n",
      "30/30 [==============================] - ETA: 9s - loss: 0.2216 - accuracy: 0.92 - ETA: 5s - loss: 0.2366 - accuracy: 0.91 - ETA: 3s - loss: 0.2469 - accuracy: 0.90 - ETA: 2s - loss: 0.2408 - accuracy: 0.90 - ETA: 2s - loss: 0.2409 - accuracy: 0.90 - ETA: 1s - loss: 0.2432 - accuracy: 0.90 - ETA: 1s - loss: 0.2421 - accuracy: 0.90 - ETA: 1s - loss: 0.2400 - accuracy: 0.90 - ETA: 1s - loss: 0.2435 - accuracy: 0.90 - ETA: 1s - loss: 0.2443 - accuracy: 0.90 - ETA: 0s - loss: 0.2446 - accuracy: 0.90 - ETA: 0s - loss: 0.2448 - accuracy: 0.90 - ETA: 0s - loss: 0.2447 - accuracy: 0.90 - ETA: 0s - loss: 0.2438 - accuracy: 0.90 - ETA: 0s - loss: 0.2423 - accuracy: 0.90 - 3s 103ms/step - loss: 0.2412 - accuracy: 0.9085 - val_loss: 0.3248 - val_accuracy: 0.8587\n",
      "Epoch 18/20\n",
      "30/30 [==============================] - ETA: 9s - loss: 0.2177 - accuracy: 0.92 - ETA: 5s - loss: 0.2291 - accuracy: 0.91 - ETA: 3s - loss: 0.2362 - accuracy: 0.91 - ETA: 2s - loss: 0.2307 - accuracy: 0.91 - ETA: 2s - loss: 0.2263 - accuracy: 0.91 - ETA: 1s - loss: 0.2256 - accuracy: 0.91 - ETA: 1s - loss: 0.2260 - accuracy: 0.91 - ETA: 1s - loss: 0.2247 - accuracy: 0.91 - ETA: 1s - loss: 0.2246 - accuracy: 0.91 - ETA: 0s - loss: 0.2244 - accuracy: 0.91 - ETA: 0s - loss: 0.2233 - accuracy: 0.91 - ETA: 0s - loss: 0.2235 - accuracy: 0.91 - ETA: 0s - loss: 0.2267 - accuracy: 0.91 - ETA: 0s - loss: 0.2243 - accuracy: 0.91 - 3s 102ms/step - loss: 0.2242 - accuracy: 0.9168 - val_loss: 0.3197 - val_accuracy: 0.8629\n",
      "Epoch 19/20\n",
      "30/30 [==============================] - ETA: 9s - loss: 0.2075 - accuracy: 0.91 - ETA: 5s - loss: 0.1924 - accuracy: 0.92 - ETA: 3s - loss: 0.2089 - accuracy: 0.91 - ETA: 2s - loss: 0.2101 - accuracy: 0.91 - ETA: 2s - loss: 0.2106 - accuracy: 0.91 - ETA: 2s - loss: 0.2097 - accuracy: 0.91 - ETA: 1s - loss: 0.2097 - accuracy: 0.91 - ETA: 1s - loss: 0.2067 - accuracy: 0.92 - ETA: 1s - loss: 0.2071 - accuracy: 0.92 - ETA: 0s - loss: 0.2101 - accuracy: 0.92 - ETA: 0s - loss: 0.2086 - accuracy: 0.92 - ETA: 0s - loss: 0.2098 - accuracy: 0.92 - ETA: 0s - loss: 0.2105 - accuracy: 0.92 - ETA: 0s - loss: 0.2105 - accuracy: 0.92 - 3s 104ms/step - loss: 0.2103 - accuracy: 0.9229 - val_loss: 0.3177 - val_accuracy: 0.8636\n",
      "Epoch 20/20\n",
      "30/30 [==============================] - ETA: 9s - loss: 0.2296 - accuracy: 0.91 - ETA: 5s - loss: 0.2089 - accuracy: 0.92 - ETA: 3s - loss: 0.2049 - accuracy: 0.92 - ETA: 2s - loss: 0.2048 - accuracy: 0.92 - ETA: 2s - loss: 0.1999 - accuracy: 0.93 - ETA: 1s - loss: 0.1982 - accuracy: 0.93 - ETA: 1s - loss: 0.1947 - accuracy: 0.93 - ETA: 1s - loss: 0.1978 - accuracy: 0.93 - ETA: 1s - loss: 0.2009 - accuracy: 0.93 - ETA: 0s - loss: 0.2001 - accuracy: 0.93 - ETA: 0s - loss: 0.1979 - accuracy: 0.93 - ETA: 0s - loss: 0.1983 - accuracy: 0.93 - ETA: 0s - loss: 0.1998 - accuracy: 0.93 - ETA: 0s - loss: 0.1997 - accuracy: 0.92 - 3s 103ms/step - loss: 0.1985 - accuracy: 0.9311 - val_loss: 0.3147 - val_accuracy: 0.8675\n"
     ]
    }
   ],
   "source": [
    "history = model.fit(train_data.shuffle(10000).batch(512),\n",
    "                    epochs=20,\n",
    "                    validation_data=validation_data.batch(512),\n",
    "                    verbose=1)"
   ]
  },
  {
   "cell_type": "code",
   "execution_count": 14,
   "metadata": {},
   "outputs": [
    {
     "name": "stdout",
     "output_type": "stream",
     "text": [
      "49/49 - 2s - loss: 0.3279 - accuracy: 0.8580\n",
      "loss: 0.328\n",
      "accuracy: 0.858\n"
     ]
    }
   ],
   "source": [
    "#evaluate the model\n",
    "results = model.evaluate(test_data.batch(512), verbose=2)\n",
    "\n",
    "for name, value in zip(model.metrics_names, results):\n",
    "  print(\"%s: %.3f\" % (name, value))"
   ]
  },
  {
   "cell_type": "code",
   "execution_count": null,
   "metadata": {},
   "outputs": [],
   "source": []
  }
 ],
 "metadata": {
  "kernelspec": {
   "display_name": "Python 3",
   "language": "python",
   "name": "python3"
  },
  "language_info": {
   "codemirror_mode": {
    "name": "ipython",
    "version": 3
   },
   "file_extension": ".py",
   "mimetype": "text/x-python",
   "name": "python",
   "nbconvert_exporter": "python",
   "pygments_lexer": "ipython3",
   "version": "3.7.4"
  }
 },
 "nbformat": 4,
 "nbformat_minor": 4
}
